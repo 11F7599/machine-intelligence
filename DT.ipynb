{
  "metadata": {
    "kernelspec": {
      "name": "python",
      "display_name": "Python (Pyodide)",
      "language": "python"
    },
    "language_info": {
      "codemirror_mode": {
        "name": "python",
        "version": 3
      },
      "file_extension": ".py",
      "mimetype": "text/x-python",
      "name": "python",
      "nbconvert_exporter": "python",
      "pygments_lexer": "ipython3",
      "version": "3.8"
    }
  },
  "nbformat_minor": 5,
  "nbformat": 4,
  "cells": [
    {
      "id": "e4302fb4-4bfb-4c33-8d11-6deffacbcaea",
      "cell_type": "code",
      "source": "import pandas as pd\nimport numpy as np\n\n# Load your dataset\ndf = pd.read_csv('text.csv')\n\n# Select only 'text' and 'label' columns\ndf = df[['text', 'label']]\n\n# Inspect missing values\nprint(\"Missing values in 'text' column:\", df['text'].isnull().sum())\nprint(\"Missing values in 'label' column:\", df['label'].isnull().sum())\n\n# Drop rows where 'text' is null\ndf = df.dropna(subset=['text'])\n\n# Fill missing label entries with a random integer between 0 and 5\ndf['label'] = df['label'].apply(lambda x: np.random.randint(0, 6) if pd.isnull(x) else x)\n\n# Identify and correct outliers in the label column\ndf['label'] = df['label'].apply(lambda x: np.random.randint(0, 6) \n                                if x not in range(6) else x)\n\n# Re-inspect missing values after preprocessing\nprint(\"After preprocessing:\")\nprint(\"Missing values in 'text' column:\", df['text'].isnull().sum())\nprint(\"Missing values in 'label' column:\", df['label'].isnull().sum())\nprint(\"Outlier values in 'label' column:\", df[~df['label'].isin(range(6))].shape[0])\n\n# Proceed with the rest of your workflow...\n# Text preprocessing and vectorization\nvectorizer = TfidfVectorizer(stop_words='english')\nX = vectorizer.fit_transform(df['text'])\ny = df['label']\n\n# Split the dataset into training and testing sets\nX_train, X_test, y_train, y_test = train_test_split(X, y, test_size=0.2, random_state=42)\n\n# Initialize the Decision Tree classifier\ndt_classifier = DecisionTreeClassifier(criterion='gini', random_state=42)\n\n# Train the classifier\ndt_classifier.fit(X_train, y_train)\n\n# Predict on the test set\ny_pred = dt_classifier.predict(X_test)\n\n# Evaluate the model\nprint(\"Accuracy:\", accuracy_score(y_test, y_pred))\nprint(\"Precision:\", precision_score(y_test, y_pred, average='weighted'))\nprint(\"Recall:\", recall_score(y_test, y_pred, average='weighted'))\nprint(\"F1 Score:\", f1_score(y_test, y_pred, average='weighted'))\nprint(\"MCC:\", matthews_corrcoef(y_test, y_pred))\n\n# Calculate Mean Squared Error (MSE) and Root Mean Squared Error (RMSE)\nmse = mean_squared_error(y_test, y_pred)\nrmse = np.sqrt(mse)\nprint(\"MSE:\", mse)\nprint(\"RMSE:\", rmse)\n\nprint(\"Classification Report:\\n\", \n      classification_report(y_test, y_pred, target_names=['sadness', 'joy', 'love', 'anger', 'fear', 'surprise']))\n\n# Compute the confusion matrix\nconf_matrix = confusion_matrix(y_test, y_pred)\n\n# Plot the confusion matrix using matplotlib\nfig, ax = plt.subplots(figsize=(10, 7))\ncax = ax.matshow(conf_matrix, cmap='Blues')\nfig.colorbar(cax)\n\n# Set axis labels\nax.set_xlabel('Predicted Labels')\nax.set_ylabel('True Labels')\n\n# Set axis ticks and labels\nax.set_xticklabels([''] + ['sadness', 'joy', 'love', 'anger', 'fear', 'surprise'])\nax.set_yticklabels([''] + ['sadness', 'joy', 'love', 'anger', 'fear', 'surprise'])\n\n# Rotate the tick labels and set their alignment.\nplt.xticks(rotation=45, ha='right')\n\n# Loop over data dimensions and create text annotations.\nfor i in range(len(conf_matrix)):\n    for j in range(len(conf_matrix[i])):\n        ax.text(j, i, conf_matrix[i, j], ha='center', va='center', color='black')\n\nplt.title('Confusion Matrix')\nplt.show()\n",
      "metadata": {
        "trusted": true,
        "scrolled": true
      },
      "outputs": [
        {
          "name": "stdout",
          "text": "Missing values in 'text' column: 0\nMissing values in 'label' column: 0\nAfter preprocessing:\nMissing values in 'text' column: 0\nMissing values in 'label' column: 0\nOutlier values in 'label' column: 0\n",
          "output_type": "stream"
        },
        {
          "name": "stderr",
          "text": "/lib/python3.11/site-packages/threadpoolctl.py:1019: RuntimeWarning: libc not found. The ctypes module in Python 3.11 is maybe too old for this OS.\n  warnings.warn(\n",
          "output_type": "stream"
        }
      ],
      "execution_count": null
    },
    {
      "id": "f669bbb7-d2cd-43d1-8084-9a96ec14419e",
      "cell_type": "code",
      "source": "",
      "metadata": {
        "trusted": true
      },
      "outputs": [],
      "execution_count": null
    },
    {
      "id": "626f52dd-3118-4a2d-bb95-dedc5fce6711",
      "cell_type": "code",
      "source": "",
      "metadata": {
        "trusted": true
      },
      "outputs": [],
      "execution_count": null
    }
  ]
}